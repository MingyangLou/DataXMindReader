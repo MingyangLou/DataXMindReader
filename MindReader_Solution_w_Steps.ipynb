{
  "nbformat": 4,
  "nbformat_minor": 0,
  "metadata": {
    "colab": {
      "name": "MindReader Solution w/ Steps.ipynb",
      "provenance": [],
      "collapsed_sections": [],
      "include_colab_link": true
    },
    "kernelspec": {
      "display_name": "Python 3",
      "language": "python",
      "name": "python3"
    },
    "language_info": {
      "codemirror_mode": {
        "name": "ipython",
        "version": 3
      },
      "file_extension": ".py",
      "mimetype": "text/x-python",
      "name": "python",
      "nbconvert_exporter": "python",
      "pygments_lexer": "ipython3",
      "version": "3.8.3"
    }
  },
  "cells": [
    {
      "cell_type": "markdown",
      "metadata": {
        "id": "view-in-github",
        "colab_type": "text"
      },
      "source": [
        "<a href=\"https://colab.research.google.com/github/MingyangLou/DataXMindReader/blob/main/MindReader_Solution_w_Steps.ipynb\" target=\"_parent\"><img src=\"https://colab.research.google.com/assets/colab-badge.svg\" alt=\"Open In Colab\"/></a>"
      ]
    },
    {
      "cell_type": "markdown",
      "metadata": {
        "id": "tK2eWB7pBhUf"
      },
      "source": [
        "# Installing and Importing Libraries"
      ]
    },
    {
      "cell_type": "code",
      "metadata": {
        "colab": {
          "base_uri": "https://localhost:8080/"
        },
        "id": "uMNOz38a8xRi",
        "outputId": "c939cc98-64df-4888-ef3d-c8a8e9478c92"
      },
      "source": [
        "#Installing hmmlearn to build and train the HMM\n",
        "!pip install hmmlearn\n",
        "#Installing networkx to assign the HMM transition matrix to a graph\n",
        "!pip install networkx\n",
        "#Installing python-louvain to perform graph analysis on the HMM transition matrix\n",
        "!pip install python-louvain"
      ],
      "execution_count": 59,
      "outputs": [
        {
          "output_type": "stream",
          "text": [
            "Requirement already satisfied: hmmlearn in /usr/local/lib/python3.6/dist-packages (0.2.4)\n",
            "Requirement already satisfied: scikit-learn>=0.16 in /usr/local/lib/python3.6/dist-packages (from hmmlearn) (0.22.2.post1)\n",
            "Requirement already satisfied: scipy>=0.19 in /usr/local/lib/python3.6/dist-packages (from hmmlearn) (1.4.1)\n",
            "Requirement already satisfied: numpy>=1.10 in /usr/local/lib/python3.6/dist-packages (from hmmlearn) (1.18.5)\n",
            "Requirement already satisfied: joblib>=0.11 in /usr/local/lib/python3.6/dist-packages (from scikit-learn>=0.16->hmmlearn) (0.17.0)\n",
            "Requirement already satisfied: networkx in /usr/local/lib/python3.6/dist-packages (2.5)\n",
            "Requirement already satisfied: decorator>=4.3.0 in /usr/local/lib/python3.6/dist-packages (from networkx) (4.4.2)\n",
            "Requirement already satisfied: python-louvain in /usr/local/lib/python3.6/dist-packages (0.14)\n",
            "Requirement already satisfied: networkx in /usr/local/lib/python3.6/dist-packages (from python-louvain) (2.5)\n",
            "Requirement already satisfied: numpy in /usr/local/lib/python3.6/dist-packages (from python-louvain) (1.18.5)\n",
            "Requirement already satisfied: decorator>=4.3.0 in /usr/local/lib/python3.6/dist-packages (from networkx->python-louvain) (4.4.2)\n"
          ],
          "name": "stdout"
        }
      ]
    },
    {
      "cell_type": "code",
      "metadata": {
        "id": "6NllxYKqUE02"
      },
      "source": [
        "#Import libraries\n",
        "import numpy as np\n",
        "import pandas as pd\n",
        "import matplotlib.pyplot as plt\n",
        "import hmmlearn as hmm\n",
        "import networkx as nx\n",
        "import community as lvcm\n",
        "from hmmlearn.hmm import MultinomialHMM\n",
        "import collections\n",
        "import itertools\n",
        "from collections import defaultdict\n",
        "from sklearn.cluster import KMeans\n",
        "from sklearn.metrics import davies_bouldin_score\n",
        "from collections import Counter\n",
        "from google.colab import drive"
      ],
      "execution_count": 60,
      "outputs": []
    },
    {
      "cell_type": "markdown",
      "metadata": {
        "id": "vGbA8JVj5lWU"
      },
      "source": [
        "# Step 0: Loading and Cleaning the Data"
      ]
    },
    {
      "cell_type": "code",
      "metadata": {
        "colab": {
          "base_uri": "https://localhost:8080/"
        },
        "id": "UxM3koG-Bv5N",
        "outputId": "35d194fe-d657-4672-f602-a6444e8392f3"
      },
      "source": [
        "#Mounting drive to be able to access data\n",
        "drive.mount('/content/drive')\n",
        "%cd \"/content/drive/My Drive/Volvo HMM Project/\""
      ],
      "execution_count": 61,
      "outputs": [
        {
          "output_type": "stream",
          "text": [
            "Drive already mounted at /content/drive; to attempt to forcibly remount, call drive.mount(\"/content/drive\", force_remount=True).\n",
            "/content/drive/.shortcut-targets-by-id/1T01a1rxUdrfdS4tfGgwWks4bUw3sfNf0/Volvo HMM Project\n"
          ],
          "name": "stdout"
        }
      ]
    },
    {
      "cell_type": "code",
      "metadata": {
        "id": "glvkMByc5ntx"
      },
      "source": [
        "#Dictionary matching page names to numbers, similar dictionary with time\n",
        "page_dict = pd.read_csv('./Datasets/pagedict.csv')\n",
        "gen_dict_withtime = pd.read_csv('./Datasets/gen_dict_withtime.csv')\n",
        "#Converted User Page Sequences and Dwelling Times\n",
        "c_pageseq = pd.read_csv('./Datasets/q4_cPageSeq.csv')\n",
        "c_pageseqtimes = pd.read_csv('./Datasets/q4_cPageSeqTimes.csv')\n",
        "#Non-Converted User Page Sequences and Dwelling Times\n",
        "nc_pageseq = pd.read_csv('./Datasets/q4_ncPageSeq.csv')\n",
        "nc_pageseqtimes = pd.read_csv('./Datasets/q4_ncPageSeqTimes.csv')"
      ],
      "execution_count": 62,
      "outputs": []
    },
    {
      "cell_type": "code",
      "metadata": {
        "id": "2pgSN_6eBhUf"
      },
      "source": [
        "def page_preprocess(df):\n",
        "    #Convert Sequence String to a List\n",
        "    df['Page Sequence'] = df['seq'].apply(lambda x: [int(i) for i in x.split(\",\")])\n",
        "    #Split IDs to Session ID and User ID\n",
        "    df['Session ID'] = df.ids.apply(lambda x: x.split(',')[0])\n",
        "    df['User ID'] = df.ids.apply(lambda x: x.split(',')[1])\n",
        "    \n",
        "def time_preprocess(df):\n",
        "    #Split IDs to Session ID and User ID\n",
        "    df['Session ID'] = df.ids.apply(lambda x: x.split(',')[0])\n",
        "    df['User ID'] = df.ids.apply(lambda x: x.split(',')[1])\n",
        "\n",
        "def combo_page_time(page, time):\n",
        "    #Combining the Page and Time Sequence Datasets\n",
        "    page['Time Sequence'] = time['seq']"
      ],
      "execution_count": 63,
      "outputs": []
    },
    {
      "cell_type": "code",
      "metadata": {
        "id": "ttpfyqwrBhUf"
      },
      "source": [
        "#Preprocessing Data\n",
        "page_preprocess(c_pageseq)\n",
        "page_preprocess(nc_pageseq)\n",
        "time_preprocess(c_pageseqtimes)\n",
        "time_preprocess(nc_pageseqtimes)\n",
        "combo_page_time(c_pageseq, c_pageseqtimes)\n",
        "combo_page_time(nc_pageseq, nc_pageseqtimes)"
      ],
      "execution_count": 64,
      "outputs": []
    },
    {
      "cell_type": "code",
      "metadata": {
        "id": "-PO0B4ERBhUf"
      },
      "source": [
        "#Setting up data as converted and non-converted\n",
        "c_data = c_pageseq.copy()\n",
        "nc_data = nc_pageseq.sample(len(c_data))"
      ],
      "execution_count": 65,
      "outputs": []
    },
    {
      "cell_type": "code",
      "metadata": {
        "id": "SA74nF2XBhUg"
      },
      "source": [
        "#Drop Redundant Columns and Making the Session the Index\n",
        "c_data = c_data.drop(columns=['ids','seq', 'User ID'])\n",
        "c_data = c_data.set_index('Session ID')\n",
        "nc_data = nc_data.drop(columns=['ids','seq', 'User ID'])\n",
        "nc_data = nc_data.set_index('Session ID')"
      ],
      "execution_count": 66,
      "outputs": []
    },
    {
      "cell_type": "code",
      "metadata": {
        "scrolled": true,
        "id": "akF8LKH2BhUg"
      },
      "source": [
        "#Restructing Time Sequences to Be Lists\n",
        "c_data['Time Sequence'] = c_data['Time Sequence'].apply(lambda x: x[1:-1]).apply(lambda x: [float(i) for i in x.split(\",\")])\n",
        "nc_data['Time Sequence'] = nc_data['Time Sequence'].apply(lambda x: x[1:-1]).apply(lambda x: [float(i) for i in x.split(\",\")])"
      ],
      "execution_count": 67,
      "outputs": []
    },
    {
      "cell_type": "code",
      "metadata": {
        "id": "1VT8Kq5PBhUg"
      },
      "source": [
        "#Adding a 0 to the front of Time Sequence for the included media channel\n",
        "def add_zero(x):\n",
        "    x.insert(0,0)\n",
        "    return x\n",
        "c_data['Time Sequence'] = c_data['Time Sequence'].apply(add_zero)\n",
        "nc_data['Time Sequence'] = nc_data['Time Sequence'].apply(add_zero)"
      ],
      "execution_count": 68,
      "outputs": []
    },
    {
      "cell_type": "code",
      "metadata": {
        "id": "pspbwhfRDAqE"
      },
      "source": [
        "#Adding in total time and sequence lengths for potential later analysis\n",
        "c_data['Total Time'] = c_data['Time Sequence'].apply(lambda x: sum(x))\n",
        "c_data['Length'] = c_data['Page Sequence'].apply(lambda x: len(x))\n",
        "nc_data['Total Time'] = nc_data['Time Sequence'].apply(lambda x: sum(x))\n",
        "nc_data['Length'] = nc_data['Page Sequence'].apply(lambda x: len(x))"
      ],
      "execution_count": 69,
      "outputs": []
    },
    {
      "cell_type": "code",
      "metadata": {
        "colab": {
          "base_uri": "https://localhost:8080/",
          "height": 235
        },
        "id": "1WZw5PW2BhUg",
        "outputId": "cbe0334a-940f-4406-8ab5-91ce3f8d74e4"
      },
      "source": [
        "c_data.head()"
      ],
      "execution_count": 70,
      "outputs": [
        {
          "output_type": "execute_result",
          "data": {
            "text/html": [
              "<div>\n",
              "<style scoped>\n",
              "    .dataframe tbody tr th:only-of-type {\n",
              "        vertical-align: middle;\n",
              "    }\n",
              "\n",
              "    .dataframe tbody tr th {\n",
              "        vertical-align: top;\n",
              "    }\n",
              "\n",
              "    .dataframe thead th {\n",
              "        text-align: right;\n",
              "    }\n",
              "</style>\n",
              "<table border=\"1\" class=\"dataframe\">\n",
              "  <thead>\n",
              "    <tr style=\"text-align: right;\">\n",
              "      <th></th>\n",
              "      <th>Page Sequence</th>\n",
              "      <th>Time Sequence</th>\n",
              "      <th>Total Time</th>\n",
              "      <th>Length</th>\n",
              "    </tr>\n",
              "    <tr>\n",
              "      <th>Session ID</th>\n",
              "      <th></th>\n",
              "      <th></th>\n",
              "      <th></th>\n",
              "      <th></th>\n",
              "    </tr>\n",
              "  </thead>\n",
              "  <tbody>\n",
              "    <tr>\n",
              "      <th>1569880989</th>\n",
              "      <td>[126, 74, 84, 74, 84, 24]</td>\n",
              "      <td>[0, 36.17, 8.08, 53.54, 55.54, 0.0]</td>\n",
              "      <td>153.33</td>\n",
              "      <td>6</td>\n",
              "    </tr>\n",
              "    <tr>\n",
              "      <th>1569881650</th>\n",
              "      <td>[125, 95, 84, 24]</td>\n",
              "      <td>[0, 861.66, 15.93, 0.0]</td>\n",
              "      <td>877.59</td>\n",
              "      <td>4</td>\n",
              "    </tr>\n",
              "    <tr>\n",
              "      <th>1569882913</th>\n",
              "      <td>[125, 77, 5, 74, 5, 74, 85, 90, 93, 99, 91, 92...</td>\n",
              "      <td>[0, 12.45, 32.84, 325.86, 14.4, 49.31, 55.66, ...</td>\n",
              "      <td>1584.89</td>\n",
              "      <td>19</td>\n",
              "    </tr>\n",
              "    <tr>\n",
              "      <th>1569883055</th>\n",
              "      <td>[130, 79, 84, 79, 85, 90, 93, 99, 91, 92, 96, ...</td>\n",
              "      <td>[0, 16.87, 4.74, 25.1, 90.57, 12.48, 59.36, 15...</td>\n",
              "      <td>444.76</td>\n",
              "      <td>17</td>\n",
              "    </tr>\n",
              "    <tr>\n",
              "      <th>1569883489</th>\n",
              "      <td>[125, 85, 90, 93, 99, 91, 92, 96, 95, 96, 95, ...</td>\n",
              "      <td>[0, 41.22, 38.56, 46.11, 20.3, 4.28, 13.7, 10....</td>\n",
              "      <td>1753.24</td>\n",
              "      <td>28</td>\n",
              "    </tr>\n",
              "  </tbody>\n",
              "</table>\n",
              "</div>"
            ],
            "text/plain": [
              "                                                Page Sequence  ... Length\n",
              "Session ID                                                     ...       \n",
              "1569880989                          [126, 74, 84, 74, 84, 24]  ...      6\n",
              "1569881650                                  [125, 95, 84, 24]  ...      4\n",
              "1569882913  [125, 77, 5, 74, 5, 74, 85, 90, 93, 99, 91, 92...  ...     19\n",
              "1569883055  [130, 79, 84, 79, 85, 90, 93, 99, 91, 92, 96, ...  ...     17\n",
              "1569883489  [125, 85, 90, 93, 99, 91, 92, 96, 95, 96, 95, ...  ...     28\n",
              "\n",
              "[5 rows x 4 columns]"
            ]
          },
          "metadata": {
            "tags": []
          },
          "execution_count": 70
        }
      ]
    },
    {
      "cell_type": "markdown",
      "metadata": {
        "id": "g46TwaagBhUg"
      },
      "source": [
        "# Step 1: Prepare Data for HMM\n",
        "1. Combine Page Sequence with Dwelling Time\n",
        "2. Format New Sequence Properly for hmmlearn"
      ]
    },
    {
      "cell_type": "code",
      "metadata": {
        "id": "Y_fqpi4RBhUg"
      },
      "source": [
        "#Here we combine Page Sequence with Dwelling Time\n",
        "def convert_page_seq(x):\n",
        "  new_seq = []\n",
        "  for index, item in enumerate(x['Page Sequence']):\n",
        "      # First map from uncleaned category to general category (without timing information)\n",
        "      gen_idx = page_dict[page_dict['idx'] == item]['gen_idx'].iloc[0]\n",
        "      if index > 0:\n",
        "        time = x['Time Sequence'][index - 1]\n",
        "        # If immediately leave\n",
        "        if time <= 1:\n",
        "          gen_idx = gen_idx + 200\n",
        "          # If time spent > median, change to the \"long version\" of index\n",
        "        elif time > gen_dict_withtime[gen_dict_withtime['gen_idx'] == gen_idx]['median_without_immleave'].iloc[0]:\n",
        "            gen_idx = gen_idx + 100\n",
        "      # if index = 0 (no time information) or time <= median\n",
        "      new_seq.append(gen_idx)\n",
        "  return new_seq"
      ],
      "execution_count": 71,
      "outputs": []
    },
    {
      "cell_type": "code",
      "metadata": {
        "id": "nVrJFBihBhUg"
      },
      "source": [
        "c_data['Final Sequence'] = c_data.apply(lambda x: convert_page_seq(x), axis = 1)\n",
        "nc_data['Final Sequence'] = nc_data.apply(lambda x: convert_page_seq(x), axis = 1)"
      ],
      "execution_count": 72,
      "outputs": []
    },
    {
      "cell_type": "code",
      "metadata": {
        "id": "BiGiqAVABhUg"
      },
      "source": [
        "c_data['General Index Sequence'] = c_data['Page Sequence'].apply(lambda x: [page_dict[page_dict['idx'] == i]['gen_idx'].iloc[0] for i in x])\n",
        "nc_data['General Index Sequence'] = nc_data['Page Sequence'].apply(lambda x: [page_dict[page_dict['idx'] == i]['gen_idx'].iloc[0] for i in x])"
      ],
      "execution_count": 73,
      "outputs": []
    },
    {
      "cell_type": "code",
      "metadata": {
        "id": "5nmoGDpvBhUh"
      },
      "source": [
        "#Then we prepare both the converted and nonconverted data for hmmlearn\n",
        "c_hmm_sequence = c_data['Final Sequence'].apply(lambda x: [[i] for i in x])\n",
        "c_data['HMM Sequence'] = c_hmm_sequence\n",
        "c_seqs_list = np.concatenate(c_hmm_sequence)\n",
        "c_seqs_len = [len(i) for i in c_data['Final Sequence']]\n",
        "\n",
        "nc_hmm_sequence = nc_data['Final Sequence'].apply(lambda x: [[i] for i in x])\n",
        "nc_data['HMM Sequence'] = nc_hmm_sequence\n",
        "nc_seqs_list = np.concatenate(nc_hmm_sequence)\n",
        "nc_seqs_len = [len(i) for i in nc_data['Final Sequence']]"
      ],
      "execution_count": 75,
      "outputs": []
    },
    {
      "cell_type": "code",
      "metadata": {
        "colab": {
          "base_uri": "https://localhost:8080/",
          "height": 235
        },
        "id": "29bW9NusBhUh",
        "outputId": "5c2cb689-b584-4f4c-bfe6-f272cea9ceaa"
      },
      "source": [
        "c_data.head()"
      ],
      "execution_count": 74,
      "outputs": [
        {
          "output_type": "execute_result",
          "data": {
            "text/html": [
              "<div>\n",
              "<style scoped>\n",
              "    .dataframe tbody tr th:only-of-type {\n",
              "        vertical-align: middle;\n",
              "    }\n",
              "\n",
              "    .dataframe tbody tr th {\n",
              "        vertical-align: top;\n",
              "    }\n",
              "\n",
              "    .dataframe thead th {\n",
              "        text-align: right;\n",
              "    }\n",
              "</style>\n",
              "<table border=\"1\" class=\"dataframe\">\n",
              "  <thead>\n",
              "    <tr style=\"text-align: right;\">\n",
              "      <th></th>\n",
              "      <th>Page Sequence</th>\n",
              "      <th>Time Sequence</th>\n",
              "      <th>Total Time</th>\n",
              "      <th>Length</th>\n",
              "      <th>Final Sequence</th>\n",
              "      <th>General Index Sequence</th>\n",
              "    </tr>\n",
              "    <tr>\n",
              "      <th>Session ID</th>\n",
              "      <th></th>\n",
              "      <th></th>\n",
              "      <th></th>\n",
              "      <th></th>\n",
              "      <th></th>\n",
              "      <th></th>\n",
              "    </tr>\n",
              "  </thead>\n",
              "  <tbody>\n",
              "    <tr>\n",
              "      <th>1569880989</th>\n",
              "      <td>[126, 74, 84, 74, 84, 24]</td>\n",
              "      <td>[0, 36.17, 8.08, 53.54, 55.54, 0.0]</td>\n",
              "      <td>153.33</td>\n",
              "      <td>6</td>\n",
              "      <td>[63, 231, 120, 31, 120, 134]</td>\n",
              "      <td>[63, 31, 20, 31, 20, 34]</td>\n",
              "    </tr>\n",
              "    <tr>\n",
              "      <th>1569881650</th>\n",
              "      <td>[125, 95, 84, 24]</td>\n",
              "      <td>[0, 861.66, 15.93, 0.0]</td>\n",
              "      <td>877.59</td>\n",
              "      <td>4</td>\n",
              "      <td>[72, 207, 120, 134]</td>\n",
              "      <td>[72, 7, 20, 34]</td>\n",
              "    </tr>\n",
              "    <tr>\n",
              "      <th>1569882913</th>\n",
              "      <td>[125, 77, 5, 74, 5, 74, 85, 90, 93, 99, 91, 92...</td>\n",
              "      <td>[0, 12.45, 32.84, 325.86, 14.4, 49.31, 55.66, ...</td>\n",
              "      <td>1584.89</td>\n",
              "      <td>19</td>\n",
              "      <td>[72, 217, 15, 31, 115, 31, 107, 107, 107, 107,...</td>\n",
              "      <td>[72, 17, 15, 31, 15, 31, 7, 7, 7, 7, 7, 7, 7, ...</td>\n",
              "    </tr>\n",
              "    <tr>\n",
              "      <th>1569883055</th>\n",
              "      <td>[130, 79, 84, 79, 85, 90, 93, 99, 91, 92, 96, ...</td>\n",
              "      <td>[0, 16.87, 4.74, 25.1, 90.57, 12.48, 59.36, 15...</td>\n",
              "      <td>444.76</td>\n",
              "      <td>17</td>\n",
              "      <td>[80, 231, 120, 31, 107, 107, 7, 107, 7, 7, 7, ...</td>\n",
              "      <td>[80, 31, 20, 31, 7, 7, 7, 7, 7, 7, 7, 7, 7, 3,...</td>\n",
              "    </tr>\n",
              "    <tr>\n",
              "      <th>1569883489</th>\n",
              "      <td>[125, 85, 90, 93, 99, 91, 92, 96, 95, 96, 95, ...</td>\n",
              "      <td>[0, 41.22, 38.56, 46.11, 20.3, 4.28, 13.7, 10....</td>\n",
              "      <td>1753.24</td>\n",
              "      <td>28</td>\n",
              "      <td>[72, 207, 107, 107, 107, 107, 7, 7, 7, 107, 7,...</td>\n",
              "      <td>[72, 7, 7, 7, 7, 7, 7, 7, 7, 7, 7, 3, 7, 7, 7,...</td>\n",
              "    </tr>\n",
              "  </tbody>\n",
              "</table>\n",
              "</div>"
            ],
            "text/plain": [
              "                                                Page Sequence  ...                             General Index Sequence\n",
              "Session ID                                                     ...                                                   \n",
              "1569880989                          [126, 74, 84, 74, 84, 24]  ...                           [63, 31, 20, 31, 20, 34]\n",
              "1569881650                                  [125, 95, 84, 24]  ...                                    [72, 7, 20, 34]\n",
              "1569882913  [125, 77, 5, 74, 5, 74, 85, 90, 93, 99, 91, 92...  ...  [72, 17, 15, 31, 15, 31, 7, 7, 7, 7, 7, 7, 7, ...\n",
              "1569883055  [130, 79, 84, 79, 85, 90, 93, 99, 91, 92, 96, ...  ...  [80, 31, 20, 31, 7, 7, 7, 7, 7, 7, 7, 7, 7, 3,...\n",
              "1569883489  [125, 85, 90, 93, 99, 91, 92, 96, 95, 96, 95, ...  ...  [72, 7, 7, 7, 7, 7, 7, 7, 7, 7, 7, 3, 7, 7, 7,...\n",
              "\n",
              "[5 rows x 6 columns]"
            ]
          },
          "metadata": {
            "tags": []
          },
          "execution_count": 74
        }
      ]
    },
    {
      "cell_type": "markdown",
      "metadata": {
        "id": "81cF9SM7NEkT"
      },
      "source": [
        "# Step 2: Train the HMM\n",
        "Here we use the website data as emissions for the model and the hidden states represent users underlying intents. We create and train our HMMs using hmmlearn.\n"
      ]
    },
    {
      "cell_type": "code",
      "metadata": {
        "colab": {
          "base_uri": "https://localhost:8080/"
        },
        "id": "avZly_MzBhUh",
        "outputId": "f5c2cc7d-6b81-4e83-a321-a6c25d0d185f"
      },
      "source": [
        "#In this stage, we train both converted and non-converted data on seperate HMMs\n",
        "#We decided on using 30 hidden states to represent hidden intents\n",
        "#We decided using this large number of states knowing we were going to cluster them into communities after\n",
        "c_hmm = MultinomialHMM(n_components=30)\n",
        "c_hmm.fit(c_seqs_list, c_seqs_len)\n",
        "\n",
        "nc_hmm = MultinomialHMM(n_components=30)\n",
        "nc_hmm.fit(nc_seqs_list, nc_seqs_len)"
      ],
      "execution_count": 76,
      "outputs": [
        {
          "output_type": "execute_result",
          "data": {
            "text/plain": [
              "MultinomialHMM(algorithm='viterbi', init_params='ste', n_components=30,\n",
              "               n_iter=10, params='ste',\n",
              "               random_state=RandomState(MT19937) at 0x7FBB2FD22990,\n",
              "               startprob_prior=1.0, tol=0.01, transmat_prior=1.0,\n",
              "               verbose=False)"
            ]
          },
          "metadata": {
            "tags": []
          },
          "execution_count": 76
        }
      ]
    },
    {
      "cell_type": "markdown",
      "metadata": {
        "id": "XbosgVF7b_B7"
      },
      "source": [
        "# Step 3: Network Analysis\n",
        "Here we combine the 30 hidden states into the best well-defined communities. Using networkx, we find the optimal number of communities by optimizing for modularity. Modularity measures the degree to which densely connected compartments within a system can be decoupled into separate communities which interact more among themselves rather than other communities."
      ]
    },
    {
      "cell_type": "code",
      "metadata": {
        "id": "25vofSdPBhUh"
      },
      "source": [
        "#Here we use networkx to find the best partitions of the hidden states\n",
        "partitions = []\n",
        "for hmm in [c_hmm, nc_hmm]:\n",
        "    #Turning transition matrix into a format to be entered into networkx\n",
        "    page_trans = pd.DataFrame(hmm.transmat_).reset_index()\n",
        "    page_network_probs = pd.melt(page_trans, id_vars='index', value_vars=list(page_trans.columns[1:]),  var_name='End', value_name='Trans_Prob')\n",
        "    page_network_probs = page_network_probs.rename({\"index\": 'Start'}, axis =1)\n",
        "    undirected_probs = page_network_probs.groupby([\"Start\",\"End\"]).sum().reset_index()\n",
        "    #Transferring the probabilites into graph form through python-louvain to find the partition with highest modularity\n",
        "    undirected_page_network = nx.from_pandas_edgelist(undirected_probs, 'Start', 'End', create_using=nx.Graph(), edge_attr='Trans_Prob')\n",
        "    partition = lvcm.best_partition(graph=undirected_page_network, partition=None, weight='Trans_Prob', resolution=1., randomize=True)\n",
        "    partitions.append(partition)"
      ],
      "execution_count": 77,
      "outputs": []
    },
    {
      "cell_type": "code",
      "metadata": {
        "id": "8OSDXDbhBhUi"
      },
      "source": [
        "c_community = defaultdict(list)\n",
        "for key, val in sorted(partitions[0].items()):\n",
        "    c_community[val].append(key)\n",
        "nc_community = defaultdict(list)\n",
        "for key, val in sorted(partitions[1].items()):\n",
        "    nc_community[val].append(key)"
      ],
      "execution_count": 78,
      "outputs": []
    },
    {
      "cell_type": "markdown",
      "metadata": {
        "id": "kTxBxmDWVfT1"
      },
      "source": [
        "# Step 4: Define Communities\n",
        "1. Identify the hidden intents behind each sequence\n",
        "2. Find the top pages for each hidden state"
      ]
    },
    {
      "cell_type": "code",
      "metadata": {
        "id": "L8rsSQvgBhUi"
      },
      "source": [
        "#Function to translate the numbers in the sequences to their actual page names\n",
        "def getCategory(x):\n",
        "  if x >= 200:\n",
        "    x = x - 200\n",
        "    return gen_dict_withtime[gen_dict_withtime['gen_idx'] == x].gen_cat.iloc[0] + ' Imm Leave'\n",
        "  elif x >= 100:\n",
        "    x = x - 100\n",
        "    return gen_dict_withtime[gen_dict_withtime['gen_idx'] == x].gen_cat.iloc[0] + ' Long'\n",
        "  else:\n",
        "    return gen_dict_withtime[gen_dict_withtime['gen_idx'] == x].gen_cat.iloc[0]"
      ],
      "execution_count": 81,
      "outputs": []
    },
    {
      "cell_type": "code",
      "metadata": {
        "id": "dgwoQgz7BhUi"
      },
      "source": [
        "#Predicting the hidden states behind each community\n",
        "c_data['Hidden States'] = c_data['HMM Sequence'].apply(lambda x: c_hmm.predict(x))\n",
        "nc_data['Hidden States'] = nc_data['HMM Sequence'].apply(lambda x: nc_hmm.predict(x))"
      ],
      "execution_count": 82,
      "outputs": []
    },
    {
      "cell_type": "code",
      "metadata": {
        "id": "VpdHiyj-BhUi"
      },
      "source": [
        "#Converting the hidden states to identified communities from previous step\n",
        "c_data['Hidden States'] = c_data['Hidden States'].apply(lambda x: [partitions[0][i] for i in x])\n",
        "nc_data['Hidden States'] = nc_data['Hidden States'].apply(lambda x: [partitions[1][i] for i in x])"
      ],
      "execution_count": 83,
      "outputs": []
    },
    {
      "cell_type": "code",
      "metadata": {
        "id": "a5QRDF2wBhUi"
      },
      "source": [
        "c_match_seq = c_data.apply(lambda x: list(zip(x['Hidden States'], x['Final Sequence'])), axis =1)\n",
        "nc_match_seq = nc_data.apply(lambda x: list(zip(x['Hidden States'], x['Final Sequence'])), axis =1)"
      ],
      "execution_count": 84,
      "outputs": []
    },
    {
      "cell_type": "code",
      "metadata": {
        "id": "itYTKWBnBhUi"
      },
      "source": [
        "c_seq_set = list(itertools.chain.from_iterable(c_match_seq.to_list()))\n",
        "nc_seq_set = list(itertools.chain.from_iterable(nc_match_seq.to_list()))"
      ],
      "execution_count": 85,
      "outputs": []
    },
    {
      "cell_type": "code",
      "metadata": {
        "id": "BSYOnf42BhUi"
      },
      "source": [
        "#Inputting each step in each sequence to a dictionary\n",
        "c_m = collections.OrderedDict()\n",
        "nc_m = collections.OrderedDict()\n",
        "for x in c_seq_set:\n",
        "    c_m.setdefault(x[0], []).append(x[1])\n",
        "for x in nc_seq_set:\n",
        "    nc_m.setdefault(x[0], []).append(x[1])"
      ],
      "execution_count": 86,
      "outputs": []
    },
    {
      "cell_type": "code",
      "metadata": {
        "id": "USyxoUj3BhUi"
      },
      "source": [
        "def TopTenPages(state, or_dict):\n",
        "  toppages = pd.Series(or_dict[state]).value_counts()[:10]\n",
        "  for page in toppages.index:\n",
        "    print(f\"{getCategory(int(page))}({toppages[page]/len(or_dict[state]):.2f}) \", end = \" \")"
      ],
      "execution_count": 87,
      "outputs": []
    },
    {
      "cell_type": "code",
      "metadata": {
        "colab": {
          "base_uri": "https://localhost:8080/"
        },
        "id": "9SGRgm92BhUi",
        "outputId": "6880c180-b5b8-4e91-d894-e05f0e1ba48f"
      },
      "source": [
        "#Finding the top ten pages most common pages for each occurance of a hidden state in converted sequences\n",
        "for i in range(3):\n",
        "  print(f\"Intent {i+1}: {len(c_m[i])}\")\n",
        "  TopTenPages(i, c_m)\n",
        "  print('\\n')"
      ],
      "execution_count": 88,
      "outputs": [
        {
          "output_type": "stream",
          "text": [
            "Intent 1: 64616\n",
            "Leads_getLocalPrice Long(0.17)  Submit_dealerContact Long(0.16)  ShoppingTools(0.13)  CarConfigurator_landing Long(0.09)  CarConfigurator_landing(0.09)  PDP(0.06)  CarConfigurator_options Imm Leave(0.06)  Leads_getLocalPrice(0.04)  PDP Long(0.03)  ShoppingTools Long(0.03)  \n",
            "\n",
            "Intent 2: 87729\n",
            "CarConfigurator_options Long(0.40)  CarConfigurator_options(0.33)  CarConfigurator_Finish Imm Leave(0.08)  CarConfigurator_options Imm Leave(0.08)  CarebyVolvo_checkout(0.04)  CarebyVolvo_submit Long(0.03)  CarebyVolvo_checkout Long(0.02)  CarConfigurator_landing Long(0.01)  CarConfigurator_Finish(0.01)  CarConfigurator_landing Imm Leave(0.01)  \n",
            "\n",
            "Intent 3: 24420\n",
            "organic(0.15)  PDP Imm Leave(0.15)  HomePage Imm Leave(0.14)  cpc(0.12)  Other(0.12)  social(0.07)  CarebyVolvo_landingPage Imm Leave(0.06)  ShoppingTools Imm Leave(0.06)  CarConfigurator_landing Imm Leave(0.04)  referral(0.02)  \n",
            "\n"
          ],
          "name": "stdout"
        }
      ]
    },
    {
      "cell_type": "code",
      "metadata": {
        "colab": {
          "base_uri": "https://localhost:8080/"
        },
        "id": "2S42O27XBhUi",
        "outputId": "7fad3303-bc8b-45de-d22a-62bf45f9c0ff"
      },
      "source": [
        "#Finding the top ten pages most common pages for each occurance of a hidden state in non-converted sequences\n",
        "for i in range(4):\n",
        "  print(f\"Intent {i+1}: {len(nc_m[i])}\")\n",
        "  TopTenPages(i, nc_m)\n",
        "  print('\\n')"
      ],
      "execution_count": 89,
      "outputs": [
        {
          "output_type": "stream",
          "text": [
            "Intent 1: 6123\n",
            "CarConfigurator_options Imm Leave(0.38)  CarConfigurator_landing(0.32)  CarConfigurator_landing Long(0.14)  CarConfigurator_options Long(0.08)  CarConfigurator_landing Imm Leave(0.04)  CarebyVolvo_landingPage Long(0.01)  CarebyVolvo_landingPage(0.01)  CarConfigurator_options(0.00)  CarConfigurator_Finish Imm Leave(0.00)  HomePage Long(0.00)  \n",
            "\n",
            "Intent 2: 24455\n",
            "PDP Imm Leave(0.19)  HomePage Imm Leave(0.15)  cpc(0.14)  Other(0.13)  organic(0.12)  social(0.06)  CarConfigurator_landing Imm Leave(0.04)  ShoppingTools Imm Leave(0.03)  CarebyVolvo_landingPage Imm Leave(0.03)  referral(0.02)  \n",
            "\n",
            "Intent 3: 30087\n",
            "CarConfigurator_options(0.40)  CarConfigurator_options Long(0.39)  CarConfigurator_options Imm Leave(0.09)  CarConfigurator_Finish Imm Leave(0.08)  CarConfigurator_landing Long(0.01)  Leads_getLocalPrice Long(0.01)  CarConfigurator_landing(0.01)  CarConfigurator_Finish(0.01)  CarConfigurator_Finish Long(0.00)  Leads_getLocalPrice(0.00)  \n",
            "\n",
            "Intent 4: 13340\n",
            "PDP(0.21)  CarConfigurator_landing Long(0.15)  PDP Long(0.09)  ShoppingTools(0.09)  CategoryPage(0.06)  CarConfigurator_landing(0.05)  HomePage Long(0.05)  CategoryPage Long(0.04)  CarConfigurator_options Imm Leave(0.04)  Leads_getLocalPrice Long(0.03)  \n",
            "\n"
          ],
          "name": "stdout"
        }
      ]
    },
    {
      "cell_type": "markdown",
      "metadata": {
        "id": "wWofy2LS_mFe"
      },
      "source": [
        "# Step 5: Clustering Sessions\n",
        "1. Create feature vectors of the porportion of hidden intents in each sequence\n",
        "2. Find the optimal number of clusters using the Davies-Bouldin score. This score is similar to modularity but used for k-means clustering - it  measures the strength and independence of each cluster.\n",
        "3. Use the number of clusters with the lowest Davies-Bouldin score to cluster the sessions."
      ]
    },
    {
      "cell_type": "code",
      "metadata": {
        "id": "czKS9n11_QfF"
      },
      "source": [
        "#Here we create a vector for each session\n",
        "#Each vector contains the proportion of hidden states in the session\n",
        "hidden_states = [np.arange(0, 3), np.arange(0,4)]\n",
        "session_vector = [[], []]\n",
        "for i, data in enumerate([c_data, nc_data]):\n",
        "    for seq in data['Hidden States']:\n",
        "      length = len(seq)\n",
        "      dict = Counter(seq)\n",
        "      vector = []\n",
        "      for key in hidden_states[i]:\n",
        "        vector.append(dict[key] / length)\n",
        "      session_vector[i].append(vector)\n",
        "c_sample_vector = c_data.copy()\n",
        "nc_sample_vector = nc_data.copy()\n",
        "c_sample_vector['Vector'] = session_vector[0]\n",
        "nc_sample_vector['Vector'] = session_vector[1]"
      ],
      "execution_count": 92,
      "outputs": []
    },
    {
      "cell_type": "code",
      "metadata": {
        "id": "Ao5yWgMjLopK"
      },
      "source": [
        "#Here we find the Davies-Bouldin score for 2-20 clusters of sessions\n",
        "c_davies_scores = []\n",
        "nc_davies_scores = []\n",
        "for n in np.arange(2, 21):\n",
        "    kmeans = KMeans(n_clusters=n).fit(c_sample_vector['Vector'].tolist())\n",
        "    labels = kmeans.labels_\n",
        "    c_davies_scores.append(davies_bouldin_score(c_sample_vector['Vector'].tolist(), labels))\n",
        "    kmeans = KMeans(n_clusters=n).fit(nc_sample_vector['Vector'].tolist())\n",
        "    labels = kmeans.labels_\n",
        "    nc_davies_scores.append(davies_bouldin_score(nc_sample_vector['Vector'].tolist(), labels))"
      ],
      "execution_count": 93,
      "outputs": []
    },
    {
      "cell_type": "code",
      "metadata": {
        "colab": {
          "base_uri": "https://localhost:8080/",
          "height": 281
        },
        "id": "8eiTHI4WUsn2",
        "outputId": "285f96f1-0afe-411b-d440-34c91cce9326"
      },
      "source": [
        "#Here we plot the Davies-Bouldin index for number of clusters of converted sessions \n",
        "#We find the low point along the plot and use that number of clusters as the optimal number of clusters\n",
        "kmeans_scores = pd.Series(c_davies_scores, index=np.arange(2, 21))\n",
        "plt.title('DB Index for Different Number of Clusters (Converted)')\n",
        "plt.plot(kmeans_scores);"
      ],
      "execution_count": 94,
      "outputs": [
        {
          "output_type": "display_data",
          "data": {
            "image/png": "[encoded data removed]",
            "text/plain": [
              "<Figure size 432x288 with 1 Axes>"
            ]
          },
          "metadata": {
            "tags": [],
            "needs_background": "light"
          }
        }
      ]
    },
    {
      "cell_type": "code",
      "metadata": {
        "colab": {
          "base_uri": "https://localhost:8080/",
          "height": 281
        },
        "id": "h7V3tCxwBhUi",
        "outputId": "12310ff8-bf9f-4e2c-bfb2-97bce1221be4"
      },
      "source": [
        "#Here we plot the Davies-Bouldin index for number of clusters of non-converted sessions \n",
        "#Again we find the low point along the plot and use that number of clusters as the optimal number of clusters\n",
        "kmeans_scores = pd.Series(nc_davies_scores, index=np.arange(2, 21))\n",
        "plt.title('DB Index for Different Number of Clusters (Non-Converted)')\n",
        "plt.plot(kmeans_scores);"
      ],
      "execution_count": 95,
      "outputs": [
        {
          "output_type": "display_data",
          "data": {
            "image/png": "[encoded data removed]",
            "text/plain": [
              "<Figure size 432x288 with 1 Axes>"
            ]
          },
          "metadata": {
            "tags": [],
            "needs_background": "light"
          }
        }
      ]
    },
    {
      "cell_type": "code",
      "metadata": {
        "id": "wtnXEHJl-4He"
      },
      "source": [
        "#Here we do k-means clustering of each session in each dataset using the optimal number of clusters\n",
        "kmeans = KMeans(n_clusters=2).fit(c_sample_vector['Vector'].tolist())\n",
        "c_sample_vector['User Type'] = kmeans.labels_\n",
        "\n",
        "kmeans = KMeans(n_clusters=5).fit(nc_sample_vector['Vector'].tolist())\n",
        "nc_sample_vector['User Type'] = kmeans.labels_"
      ],
      "execution_count": 103,
      "outputs": []
    },
    {
      "cell_type": "code",
      "metadata": {
        "id": "cDAw09Kd_rg3"
      },
      "source": [
        "#Prepare the converted dataset so that we can analyze the different sessions\n",
        "c_session_clusters = []\n",
        "for i in np.arange(0,2):\n",
        "  temp = c_sample_vector[c_sample_vector['User Type'] == i]\n",
        "  total = np.array([0, 0, 0])\n",
        "  for vec in temp['Vector']:\n",
        "    vec = np.array(vec)\n",
        "    total = total + vec\n",
        "  avg = total / len(temp)\n",
        "  full = np.append(avg, [len(temp), np.mean(temp['Length'])])\n",
        "  c_session_clusters.append(full)"
      ],
      "execution_count": 104,
      "outputs": []
    },
    {
      "cell_type": "code",
      "metadata": {
        "id": "DIOafwDj_vgN"
      },
      "source": [
        "col = ['Intent 1', 'Intent 2', 'Intent 3', 'Number of Sessions', 'Average Session Length']\n",
        "c_session_types = pd.DataFrame(c_session_clusters, index=['Session 1', 'Session 2'], columns=col)"
      ],
      "execution_count": 105,
      "outputs": []
    },
    {
      "cell_type": "code",
      "metadata": {
        "colab": {
          "base_uri": "https://localhost:8080/",
          "height": 111
        },
        "id": "LnrdNmLzD__Z",
        "outputId": "a3260a68-024b-43ad-cbfb-9ead28cbb08d"
      },
      "source": [
        "c_session_types"
      ],
      "execution_count": 106,
      "outputs": [
        {
          "output_type": "execute_result",
          "data": {
            "text/html": [
              "<div>\n",
              "<style scoped>\n",
              "    .dataframe tbody tr th:only-of-type {\n",
              "        vertical-align: middle;\n",
              "    }\n",
              "\n",
              "    .dataframe tbody tr th {\n",
              "        vertical-align: top;\n",
              "    }\n",
              "\n",
              "    .dataframe thead th {\n",
              "        text-align: right;\n",
              "    }\n",
              "</style>\n",
              "<table border=\"1\" class=\"dataframe\">\n",
              "  <thead>\n",
              "    <tr style=\"text-align: right;\">\n",
              "      <th></th>\n",
              "      <th>Intent 1</th>\n",
              "      <th>Intent 2</th>\n",
              "      <th>Intent 3</th>\n",
              "      <th>Number of Sessions</th>\n",
              "      <th>Average Session Length</th>\n",
              "    </tr>\n",
              "  </thead>\n",
              "  <tbody>\n",
              "    <tr>\n",
              "      <th>Session 1</th>\n",
              "      <td>0.656104</td>\n",
              "      <td>0.032147</td>\n",
              "      <td>0.311749</td>\n",
              "      <td>5394.0</td>\n",
              "      <td>7.674082</td>\n",
              "    </tr>\n",
              "    <tr>\n",
              "      <th>Session 2</th>\n",
              "      <td>0.252938</td>\n",
              "      <td>0.621334</td>\n",
              "      <td>0.125728</td>\n",
              "      <td>7287.0</td>\n",
              "      <td>18.577055</td>\n",
              "    </tr>\n",
              "  </tbody>\n",
              "</table>\n",
              "</div>"
            ],
            "text/plain": [
              "           Intent 1  Intent 2  ...  Number of Sessions  Average Session Length\n",
              "Session 1  0.656104  0.032147  ...              5394.0                7.674082\n",
              "Session 2  0.252938  0.621334  ...              7287.0               18.577055\n",
              "\n",
              "[2 rows x 5 columns]"
            ]
          },
          "metadata": {
            "tags": []
          },
          "execution_count": 106
        }
      ]
    },
    {
      "cell_type": "code",
      "metadata": {
        "id": "JD2REyy7BhUj"
      },
      "source": [
        "#Prepare the non-converted dataset so that we can analyze the different sessions\n",
        "nc_session_clusters = []\n",
        "for i in np.arange(0,5):\n",
        "  temp = nc_sample_vector[nc_sample_vector['User Type'] == i]\n",
        "  total = np.array([0, 0, 0, 0])\n",
        "  for vec in temp['Vector']:\n",
        "    vec = np.array(vec)\n",
        "    total = total + vec\n",
        "  avg = total / len(temp)\n",
        "  full = np.append(avg, [len(temp), np.mean(temp['Length'])])\n",
        "  nc_session_clusters.append(full)"
      ],
      "execution_count": 111,
      "outputs": []
    },
    {
      "cell_type": "code",
      "metadata": {
        "id": "K2xqr3hQBhUj"
      },
      "source": [
        "col = ['Intent 1', 'Intent 2', 'Intent 3', 'Intent 4', 'Number of Sessions', 'Average Session Length']\n",
        "nc_session_types = pd.DataFrame(nc_session_clusters, index=['Session 1', 'Session 2', 'Session 3', 'Session 4', 'Session 5'], columns=col)"
      ],
      "execution_count": 112,
      "outputs": []
    },
    {
      "cell_type": "code",
      "metadata": {
        "colab": {
          "base_uri": "https://localhost:8080/",
          "height": 204
        },
        "id": "ysPNnyb8BhUj",
        "outputId": "cae9dbdb-04a9-4d24-c7a8-da41864ba6da"
      },
      "source": [
        "nc_session_types"
      ],
      "execution_count": 113,
      "outputs": [
        {
          "output_type": "execute_result",
          "data": {
            "text/html": [
              "<div>\n",
              "<style scoped>\n",
              "    .dataframe tbody tr th:only-of-type {\n",
              "        vertical-align: middle;\n",
              "    }\n",
              "\n",
              "    .dataframe tbody tr th {\n",
              "        vertical-align: top;\n",
              "    }\n",
              "\n",
              "    .dataframe thead th {\n",
              "        text-align: right;\n",
              "    }\n",
              "</style>\n",
              "<table border=\"1\" class=\"dataframe\">\n",
              "  <thead>\n",
              "    <tr style=\"text-align: right;\">\n",
              "      <th></th>\n",
              "      <th>Intent 1</th>\n",
              "      <th>Intent 2</th>\n",
              "      <th>Intent 3</th>\n",
              "      <th>Intent 4</th>\n",
              "      <th>Number of Sessions</th>\n",
              "      <th>Average Session Length</th>\n",
              "    </tr>\n",
              "  </thead>\n",
              "  <tbody>\n",
              "    <tr>\n",
              "      <th>Session 1</th>\n",
              "      <td>0.000000</td>\n",
              "      <td>0.666010</td>\n",
              "      <td>0.000985</td>\n",
              "      <td>0.333005</td>\n",
              "      <td>1777.0</td>\n",
              "      <td>3.003939</td>\n",
              "    </tr>\n",
              "    <tr>\n",
              "      <th>Session 2</th>\n",
              "      <td>0.000000</td>\n",
              "      <td>1.000000</td>\n",
              "      <td>0.000000</td>\n",
              "      <td>0.000000</td>\n",
              "      <td>4220.0</td>\n",
              "      <td>2.000000</td>\n",
              "    </tr>\n",
              "    <tr>\n",
              "      <th>Session 3</th>\n",
              "      <td>0.082265</td>\n",
              "      <td>0.156287</td>\n",
              "      <td>0.673756</td>\n",
              "      <td>0.087692</td>\n",
              "      <td>2756.0</td>\n",
              "      <td>15.152758</td>\n",
              "    </tr>\n",
              "    <tr>\n",
              "      <th>Session 4</th>\n",
              "      <td>0.022374</td>\n",
              "      <td>0.410397</td>\n",
              "      <td>0.010427</td>\n",
              "      <td>0.556802</td>\n",
              "      <td>2376.0</td>\n",
              "      <td>5.166667</td>\n",
              "    </tr>\n",
              "    <tr>\n",
              "      <th>Session 5</th>\n",
              "      <td>0.348091</td>\n",
              "      <td>0.505227</td>\n",
              "      <td>0.081034</td>\n",
              "      <td>0.065648</td>\n",
              "      <td>1552.0</td>\n",
              "      <td>3.988402</td>\n",
              "    </tr>\n",
              "  </tbody>\n",
              "</table>\n",
              "</div>"
            ],
            "text/plain": [
              "           Intent 1  Intent 2  ...  Number of Sessions  Average Session Length\n",
              "Session 1  0.000000  0.666010  ...              1777.0                3.003939\n",
              "Session 2  0.000000  1.000000  ...              4220.0                2.000000\n",
              "Session 3  0.082265  0.156287  ...              2756.0               15.152758\n",
              "Session 4  0.022374  0.410397  ...              2376.0                5.166667\n",
              "Session 5  0.348091  0.505227  ...              1552.0                3.988402\n",
              "\n",
              "[5 rows x 6 columns]"
            ]
          },
          "metadata": {
            "tags": []
          },
          "execution_count": 113
        }
      ]
    },
    {
      "cell_type": "code",
      "metadata": {
        "id": "J1m8_xG-IEsF"
      },
      "source": [
        ""
      ],
      "execution_count": null,
      "outputs": []
    }
  ]
}